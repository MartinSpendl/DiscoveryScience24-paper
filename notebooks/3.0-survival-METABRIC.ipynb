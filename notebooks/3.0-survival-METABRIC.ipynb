{
 "cells": [
  {
   "cell_type": "markdown",
   "metadata": {},
   "source": [
    "# 3.0 - Survival analysis of METABRIC patients"
   ]
  },
  {
   "cell_type": "code",
   "execution_count": 1,
   "metadata": {},
   "outputs": [],
   "source": [
    "import os\n",
    "import numpy as np\n",
    "import pandas as pd\n",
    "import matplotlib.pyplot as plt\n",
    "import pickle\n",
    "import torch\n",
    "\n",
    "import os\n",
    "import sys\n",
    "sys.path.append(f\"../\")\n",
    "from sslcox.utils.model_evaluation import model_already_trained\n",
    "\n",
    "import lifelines\n",
    "from lifelines import CoxPHFitter\n",
    "from sslcox.data.load_datasets import load_METABRIC\n"
   ]
  },
  {
   "cell_type": "code",
   "execution_count": 2,
   "metadata": {},
   "outputs": [],
   "source": [
    "EXPRESSIONS = 'METABRIC'\n",
    "\n",
    "DS_DIR = f'{EXPRESSIONS}-optuna'\n",
    "CV_DIR = lambda cv: f'CV-{cv}'\n",
    "MODEL_DIR = lambda m: f'{m}-model-results'"
   ]
  },
  {
   "cell_type": "code",
   "execution_count": 3,
   "metadata": {},
   "outputs": [],
   "source": [
    "training_results = []\n",
    "\n",
    "for cv in sorted(os.listdir(f'../data/training-results/{DS_DIR}')):\n",
    "    if cv.startswith('.'): continue\n",
    "    cv_results = {}\n",
    "\n",
    "    for model in os.listdir(f'../data/training-results/{DS_DIR}/{cv}'):\n",
    "        if model.startswith('.'): continue\n",
    "\n",
    "        name = model.split('-model-results')[0]\n",
    "        base_path = f'../data/training-results/{DS_DIR}/{cv}/{model}'\n",
    "\n",
    "        if not model_already_trained(DS_DIR, CV_DIR(cv.split('-')[1]), MODEL_DIR(name)):\n",
    "            continue\n",
    "\n",
    "        X_train_latent = pd.read_csv(f'{base_path}/X_train_latent.tsv', sep='\\t', index_col=['index'])\n",
    "        X_test_latent = pd.read_csv(f'{base_path}/X_test_latent.tsv', sep='\\t', index_col=['index'])\n",
    "        \n",
    "        cv_results[name] = {\n",
    "            'X_train_latent': X_train_latent,\n",
    "            'X_test_latent': X_test_latent,\n",
    "        }\n",
    "        \n",
    "        # IF VAE\n",
    "        if 'vae' in name:\n",
    "\n",
    "            with open(f'{base_path}/study.pickle', 'rb') as f:\n",
    "                study = pickle.load(f)\n",
    "            torch_weights = torch.load(f'{base_path}/torch_model.pt', map_location=torch.device('cpu'))\n",
    "\n",
    "            cv_results[name].update({\n",
    "                'study': study,\n",
    "                'torch_weights': torch_weights,\n",
    "            })\n",
    "    \n",
    "    training_results += [cv_results]"
   ]
  },
  {
   "cell_type": "code",
   "execution_count": 4,
   "metadata": {},
   "outputs": [],
   "source": [
    "data, metadata = load_METABRIC()"
   ]
  },
  {
   "cell_type": "code",
   "execution_count": 5,
   "metadata": {},
   "outputs": [],
   "source": [
    "os_time, os_event = metadata['OS_MONTHS'], metadata['OS_STATUS'].apply(lambda x: int(x[0]))\n",
    "rfs_time, rfs_event = metadata['RFS_MONTHS'].fillna(0), metadata['RFS_STATUS'].apply(lambda x: int(x[0] if type(x) == str else 0))"
   ]
  },
  {
   "cell_type": "markdown",
   "metadata": {},
   "source": [
    "## Modeling transcription and decay enrichment"
   ]
  },
  {
   "cell_type": "code",
   "execution_count": 6,
   "metadata": {},
   "outputs": [
    {
     "name": "stderr",
     "output_type": "stream",
     "text": [
      "100%|██████████| 5/5 [01:41<00:00, 20.38s/it]\n",
      "100%|██████████| 5/5 [01:39<00:00, 19.88s/it]\n",
      "100%|██████████| 5/5 [01:39<00:00, 19.83s/it]\n",
      "100%|██████████| 5/5 [00:27<00:00,  5.59s/it]\n",
      "100%|██████████| 5/5 [00:27<00:00,  5.47s/it]\n"
     ]
    }
   ],
   "source": [
    "from tqdm import tqdm\n",
    "\n",
    "PROCESS = ['rfs']\n",
    "\n",
    "survival_data = {\n",
    "    'rfs': [rfs_time, rfs_event],\n",
    "}\n",
    "\n",
    "ridge_models = {}\n",
    "performance = {}\n",
    "SCORING_METHOD = 'concordance_index'\n",
    "\n",
    "for cv in range(len(training_results)):\n",
    "    ridge_models[cv] = {}\n",
    "    performance[cv] = {}\n",
    "\n",
    "    for model, values in tqdm(training_results[cv].items()):\n",
    "        ridge_models[cv][model] = {}\n",
    "        performance[cv][model] = {}\n",
    "\n",
    "        for process in PROCESS:\n",
    "            y_time, y_event = survival_data[process]\n",
    "\n",
    "            X_train = values['X_train_latent']\n",
    "            X_test = values['X_test_latent']\n",
    "\n",
    "            X_train_mean, X_train_std = X_train.mean(axis=0), X_train.std(axis=0)\n",
    "            X_train = (X_train - X_train_mean)/X_train_std\n",
    "            X_test = (X_test - X_train_mean)/X_train_std\n",
    "\n",
    "            train_set = pd.concat((X_train, y_time, y_event), axis=1, join='inner')\n",
    "            train_set.columns = list(train_set.columns[:-2]) + ['time', 'event']\n",
    "            test_set = pd.concat((X_test, y_time, y_event), axis=1, join='inner')\n",
    "            test_set.columns = list(test_set.columns[:-2]) + ['time', 'event']\n",
    "\n",
    "            estimator = CoxPHFitter(penalizer=0.1)\n",
    "            estimator.fit(train_set, 'time', 'event')\n",
    "\n",
    "            ridge_models[cv][model][process] = estimator\n",
    "\n",
    "            score = estimator.score(test_set, SCORING_METHOD)\n",
    "            performance[cv][model][process] = score\n",
    "        "
   ]
  },
  {
   "cell_type": "code",
   "execution_count": 7,
   "metadata": {},
   "outputs": [],
   "source": [
    "results = {\n",
    "    name: {\n",
    "        d: [per[name][d] for per in performance.values()]\n",
    "        for d in PROCESS\n",
    "    }\n",
    "    for name in performance[0].keys()\n",
    "}\n",
    "\n",
    "results = {name: results[name] for name in ['vae-cox', 'vae-mse', 'vae-div', 'pca-emb', 'no-embedding']}"
   ]
  },
  {
   "cell_type": "code",
   "execution_count": 8,
   "metadata": {},
   "outputs": [
    {
     "data": {
      "text/html": [
       "<div>\n",
       "<style scoped>\n",
       "    .dataframe tbody tr th:only-of-type {\n",
       "        vertical-align: middle;\n",
       "    }\n",
       "\n",
       "    .dataframe tbody tr th {\n",
       "        vertical-align: top;\n",
       "    }\n",
       "\n",
       "    .dataframe thead th {\n",
       "        text-align: right;\n",
       "    }\n",
       "</style>\n",
       "<table border=\"1\" class=\"dataframe\">\n",
       "  <thead>\n",
       "    <tr style=\"text-align: right;\">\n",
       "      <th></th>\n",
       "      <th>rfs</th>\n",
       "    </tr>\n",
       "  </thead>\n",
       "  <tbody>\n",
       "    <tr>\n",
       "      <th>vae-cox</th>\n",
       "      <td>(0.6370137001961169, 0.015321285656969798)</td>\n",
       "    </tr>\n",
       "    <tr>\n",
       "      <th>vae-mse</th>\n",
       "      <td>(0.6252743410333371, 0.011481513049029777)</td>\n",
       "    </tr>\n",
       "    <tr>\n",
       "      <th>vae-div</th>\n",
       "      <td>(0.6265273679943228, 0.014007834985210932)</td>\n",
       "    </tr>\n",
       "    <tr>\n",
       "      <th>pca-emb</th>\n",
       "      <td>(0.6157731593507318, 0.012197675010028311)</td>\n",
       "    </tr>\n",
       "    <tr>\n",
       "      <th>no-embedding</th>\n",
       "      <td>(0.6105721594683235, 0.02446224960510976)</td>\n",
       "    </tr>\n",
       "  </tbody>\n",
       "</table>\n",
       "</div>"
      ],
      "text/plain": [
       "                                                     rfs\n",
       "vae-cox       (0.6370137001961169, 0.015321285656969798)\n",
       "vae-mse       (0.6252743410333371, 0.011481513049029777)\n",
       "vae-div       (0.6265273679943228, 0.014007834985210932)\n",
       "pca-emb       (0.6157731593507318, 0.012197675010028311)\n",
       "no-embedding   (0.6105721594683235, 0.02446224960510976)"
      ]
     },
     "execution_count": 8,
     "metadata": {},
     "output_type": "execute_result"
    }
   ],
   "source": [
    "mean_results = pd.DataFrame(\n",
    "    [[(np.mean(results[name][d]), np.std(results[name][d])) for name in results.keys()] for d in PROCESS],\n",
    "    index=PROCESS, columns=results.keys()\n",
    ").T\n",
    "mean_results.head()"
   ]
  },
  {
   "cell_type": "code",
   "execution_count": 10,
   "metadata": {},
   "outputs": [
    {
     "name": "stdout",
     "output_type": "stream",
     "text": [
      "vae-cox \\(0.637 \\pm 0.007\\)\n",
      "vae-mse \\(0.625 \\pm 0.005\\)\n",
      "vae-div \\(0.627 \\pm 0.006\\)\n",
      "pca-emb \\(0.616 \\pm 0.005\\)\n",
      "no-embedding \\(0.611 \\pm 0.011\\)\n"
     ]
    }
   ],
   "source": [
    "for name in results.keys():\n",
    "    print(name, f\"\\({np.mean(results[name]['rfs']):.3f} \\pm {np.std(results[name]['rfs'])/np.sqrt(len(results[name]['rfs'])):.3f}\\)\")"
   ]
  },
  {
   "cell_type": "code",
   "execution_count": null,
   "metadata": {},
   "outputs": [],
   "source": []
  }
 ],
 "metadata": {
  "kernelspec": {
   "display_name": "ssl-latent",
   "language": "python",
   "name": "python3"
  },
  "language_info": {
   "codemirror_mode": {
    "name": "ipython",
    "version": 3
   },
   "file_extension": ".py",
   "mimetype": "text/x-python",
   "name": "python",
   "nbconvert_exporter": "python",
   "pygments_lexer": "ipython3",
   "version": "3.10.13"
  }
 },
 "nbformat": 4,
 "nbformat_minor": 2
}
