{
 "cells": [
  {
   "cell_type": "markdown",
   "metadata": {},
   "source": [
    "# 1.0 - Clustering TCGA samples"
   ]
  },
  {
   "cell_type": "code",
   "execution_count": 1,
   "metadata": {},
   "outputs": [],
   "source": [
    "import os \n",
    "import numpy as np\n",
    "import pandas as pd\n",
    "import matplotlib.pyplot as plt\n",
    "import sys\n",
    "\n",
    "from sklearn.manifold import TSNE\n",
    "from tqdm import tqdm\n",
    "\n",
    "sys.path.insert(0, '..')\n",
    "from sslcox.metrics.morans_measure import moran_measure\n",
    "from sslcox.data.load_datasets import load_TCGA_clustering"
   ]
  },
  {
   "cell_type": "code",
   "execution_count": 2,
   "metadata": {},
   "outputs": [],
   "source": [
    "def load_X_latent(tcga_project):\n",
    "\n",
    "    DATA_DIR = f'../data/training-results/{tcga_project}-clustering-optuna/CV-1'\n",
    "    dirs = os.listdir(DATA_DIR)\n",
    "\n",
    "    X_latent_dict = {\n",
    "        name.split('-model-results')[0]: pd.read_csv(f'{DATA_DIR}/{name}/X_train_latent.tsv', sep='\\t', index_col=0)\n",
    "        for name in dirs\n",
    "    }\n",
    "\n",
    "    return X_latent_dict"
   ]
  },
  {
   "cell_type": "code",
   "execution_count": 3,
   "metadata": {},
   "outputs": [],
   "source": [
    "def bootstrap_moran_I(tsne_data, labels, M=100):\n",
    "\n",
    "    measures = []\n",
    "\n",
    "    np.random.seed(0)\n",
    "    for i in tqdm(range(M)):\n",
    "        ids = np.random.choice(np.arange(len(tsne_data)), size=len(tsne_data))\n",
    "\n",
    "        measures += [moran_measure(tsne_data[ids], labels[ids], percent_distance=0.05)]\n",
    "\n",
    "    mu = moran_measure(tsne_data, labels, percent_distance=0.05)\n",
    "    \n",
    "    return mu, np.std(measures), np.std(measures)/np.sqrt(M)\n"
   ]
  },
  {
   "cell_type": "code",
   "execution_count": 4,
   "metadata": {},
   "outputs": [],
   "source": [
    "def moran_I_data_for_TCGA(tcga_project):\n",
    "\n",
    "    unique_values = {\n",
    "        'BRCA': ['Positive', 'Negative'],\n",
    "        'KIRP': ['Type 1', 'Type 2'],\n",
    "        'LGG': ['NO', 'YES'],\n",
    "        'STAD': ['STAD_CIN', 'STAD_MSI'],\n",
    "    }\n",
    "\n",
    "    exp, meta = load_TCGA_clustering(tcga_project)\n",
    "    X_latent_dict = load_X_latent(tcga_project)\n",
    "\n",
    "    X_tsne_dict = {\n",
    "        name: pd.DataFrame(TSNE(init='pca', perplexity=50, random_state=0).fit_transform(data.values), index=data.index)\n",
    "        for name, data in tqdm(X_latent_dict.items())\n",
    "    }\n",
    "\n",
    "    meta_valid = meta[meta.isin(unique_values[tcga_project])]\n",
    "\n",
    "    X_moran_I_setup = {\n",
    "        name: (data.loc[meta_valid.index], meta_valid)\n",
    "        for name, data in X_tsne_dict.items()\n",
    "    }\n",
    "    X_moran_I_setup = {\n",
    "        name: (data.loc[~data.index.duplicated()], meta_valid)\n",
    "        for name, (data, meta_valid) in X_moran_I_setup.items()\n",
    "    }\n",
    "    X_moran_I = {\n",
    "        name: bootstrap_moran_I(tsne_data.loc[meta_data.index.values].values, np.array([unique_values[tcga_project].index(i) for i in meta_data.values]), M=100)\n",
    "        for name, (tsne_data, meta_data) in X_moran_I_setup.items()\n",
    "    }\n",
    "\n",
    "    return {\n",
    "        'expressions': exp,\n",
    "        'meta': meta,\n",
    "        'tsne': X_tsne_dict,\n",
    "        'X_moran_setup': X_moran_I_setup,\n",
    "        'X_moran_I': X_moran_I\n",
    "    }"
   ]
  },
  {
   "cell_type": "markdown",
   "metadata": {},
   "source": [
    "## Evaluating"
   ]
  },
  {
   "cell_type": "code",
   "execution_count": 5,
   "metadata": {},
   "outputs": [
    {
     "name": "stderr",
     "output_type": "stream",
     "text": [
      "100%|██████████| 5/5 [00:10<00:00,  2.11s/it]\n",
      "100%|██████████| 100/100 [00:02<00:00, 34.11it/s]\n",
      "100%|██████████| 100/100 [00:02<00:00, 34.25it/s]\n",
      "100%|██████████| 100/100 [00:02<00:00, 34.33it/s]\n",
      "100%|██████████| 100/100 [00:02<00:00, 34.43it/s]\n",
      "100%|██████████| 100/100 [00:02<00:00, 34.04it/s]\n",
      "100%|██████████| 5/5 [00:04<00:00,  1.22it/s]\n",
      "100%|██████████| 100/100 [00:00<00:00, 965.34it/s]\n",
      "100%|██████████| 100/100 [00:00<00:00, 1058.46it/s]\n",
      "100%|██████████| 100/100 [00:00<00:00, 1025.68it/s]\n",
      "100%|██████████| 100/100 [00:00<00:00, 992.42it/s]\n",
      "100%|██████████| 100/100 [00:00<00:00, 835.56it/s]\n",
      "100%|██████████| 5/5 [00:06<00:00,  1.30s/it]\n",
      "100%|██████████| 100/100 [00:00<00:00, 1605.86it/s]\n",
      "100%|██████████| 100/100 [00:00<00:00, 1646.96it/s]\n",
      "100%|██████████| 100/100 [00:00<00:00, 1011.54it/s]\n",
      "100%|██████████| 100/100 [00:00<00:00, 1487.29it/s]\n",
      "100%|██████████| 100/100 [00:00<00:00, 1340.14it/s]\n"
     ]
    }
   ],
   "source": [
    "tcga_moran = {\n",
    "    'BRCA': moran_I_data_for_TCGA('BRCA'),\n",
    "    'KIRP': moran_I_data_for_TCGA('KIRP'),\n",
    "    'LGG': moran_I_data_for_TCGA('LGG'),\n",
    "}"
   ]
  },
  {
   "cell_type": "code",
   "execution_count": 6,
   "metadata": {},
   "outputs": [
    {
     "name": "stdout",
     "output_type": "stream",
     "text": [
      " & BRCA & KIRP & LGG\\\\\n",
      "VAE TDD & \\(0.596 \\pm 0.005\\) & \\(0.178 \\pm 0.006\\) & \\(0.352 \\pm 0.008\\)\\\\\n",
      "VAE DIV & \\(0.495 \\pm 0.004\\) & \\(0.204 \\pm 0.007\\) & \\(0.244 \\pm 0.011\\)\\\\\n",
      "VAE MSE & \\(0.407 \\pm 0.004\\) & \\(0.144 \\pm 0.006\\) & \\(0.229 \\pm 0.010\\)\\\\\n",
      "PCA & \\(0.614 \\pm 0.004\\) & \\(0.325 \\pm 0.007\\) & \\(0.301 \\pm 0.011\\)\\\\\n",
      "No Embedding & \\(0.569 \\pm 0.005\\) & \\(0.268 \\pm 0.007\\) & \\(0.300 \\pm 0.011\\)\\\\\n"
     ]
    }
   ],
   "source": [
    "## Latex table\n",
    "\n",
    "model_order = ['vae-cox', 'vae-div', 'vae-mse', 'pca-emb', 'no-embedding']\n",
    "model_names = ['VAE TDD', 'VAE DIV', 'VAE MSE', 'PCA', 'No Embedding']\n",
    "\n",
    "end = f'\\\\'\n",
    "for tcga in tcga_moran.keys():\n",
    "    print(f' & {tcga}', end='')\n",
    "print(f'{end}{end}')\n",
    "\n",
    "for i, model in enumerate(model_order):\n",
    "\n",
    "    print(f'{model_names[i]}', end='')\n",
    "\n",
    "    for tcga, moran_dict in tcga_moran.items():\n",
    "        print(f\" & \\({moran_dict['X_moran_I'][model][0]:.3f} \\pm {moran_dict['X_moran_I'][model][2]:.3f}\\)\", end='')\n",
    "    print(f'{end}{end}')\n"
   ]
  },
  {
   "cell_type": "code",
   "execution_count": null,
   "metadata": {},
   "outputs": [],
   "source": []
  }
 ],
 "metadata": {
  "kernelspec": {
   "display_name": "ssl-latent",
   "language": "python",
   "name": "python3"
  },
  "language_info": {
   "codemirror_mode": {
    "name": "ipython",
    "version": 3
   },
   "file_extension": ".py",
   "mimetype": "text/x-python",
   "name": "python",
   "nbconvert_exporter": "python",
   "pygments_lexer": "ipython3",
   "version": "3.10.13"
  }
 },
 "nbformat": 4,
 "nbformat_minor": 2
}
