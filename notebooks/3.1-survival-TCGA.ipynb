{
 "cells": [
  {
   "cell_type": "markdown",
   "metadata": {},
   "source": [
    "# 3.1 - Survival analysis using TCGA samples"
   ]
  },
  {
   "cell_type": "code",
   "execution_count": 1,
   "metadata": {},
   "outputs": [],
   "source": [
    "import os\n",
    "import numpy as np\n",
    "import pandas as pd\n",
    "import matplotlib.pyplot as plt\n",
    "import pickle\n",
    "import torch\n",
    "\n",
    "import os\n",
    "import sys\n",
    "sys.path.append(f\"../\")\n",
    "from sslcox.utils.model_evaluation import model_already_trained\n",
    "from sslcox.data.load_datasets import load_TCGA_survival_data"
   ]
  },
  {
   "cell_type": "code",
   "execution_count": 2,
   "metadata": {},
   "outputs": [],
   "source": [
    "import sys\n",
    "sys.path.insert(0, '..')"
   ]
  },
  {
   "cell_type": "code",
   "execution_count": 3,
   "metadata": {},
   "outputs": [],
   "source": [
    "EXPRESSIONS = 'LGG' # Change to 'KIRC' or 'LUAD'\n",
    "\n",
    "DS_DIR = f'{EXPRESSIONS}-optuna'\n",
    "CV_DIR = lambda cv: f'CV-{cv}'\n",
    "MODEL_DIR = lambda m: f'{m}-model-results'\n",
    "training_results = []\n",
    "\n",
    "for cv in sorted(os.listdir(f'../data/training-results/{DS_DIR}')):\n",
    "    if cv.startswith('.'): continue\n",
    "    cv_results = {}\n",
    "\n",
    "    for model in os.listdir(f'../data/training-results/{DS_DIR}/{cv}'):\n",
    "        if model.startswith('.'): continue\n",
    "\n",
    "        name = model.split('-model-results')[0]\n",
    "        base_path = f'../data/training-results/{DS_DIR}/{cv}/{model}'\n",
    "\n",
    "        if not model_already_trained(DS_DIR, CV_DIR(cv.split('-')[1]), MODEL_DIR(name)):\n",
    "            continue\n",
    "\n",
    "        X_train_latent = pd.read_csv(f'{base_path}/X_train_latent.tsv', sep='\\t', index_col=['index'])\n",
    "        X_test_latent = pd.read_csv(f'{base_path}/X_test_latent.tsv', sep='\\t', index_col=['index'])\n",
    "        \n",
    "        cv_results[name] = {\n",
    "            'X_train_latent': X_train_latent,\n",
    "            'X_test_latent': X_test_latent,\n",
    "        }\n",
    "        \n",
    "        \n",
    "    training_results += [cv_results]"
   ]
  },
  {
   "cell_type": "markdown",
   "metadata": {},
   "source": [
    "## Evaluating Survival"
   ]
  },
  {
   "cell_type": "code",
   "execution_count": 4,
   "metadata": {},
   "outputs": [],
   "source": [
    "metadata = pd.read_csv(f'../data/raw/{EXPRESSIONS.lower()}-survival-metadata.txt', sep='\\t', index_col=0)\n",
    "merged = pd.concat((training_results[0]['vae-cox']['X_train_latent'], training_results[0]['vae-cox']['X_test_latent']), axis=0)\n",
    "metadata = metadata.loc[[x[:15] for x in merged.index.values if x[:15] in metadata.index.values]].fillna(0)\n",
    "#metadata = metadata.loc[~metadata.index.duplicated(keep='first')].fillna(0)\n",
    "metadata.index = [x for x in merged.index.values if x[:15] in metadata.index.values]"
   ]
  },
  {
   "cell_type": "code",
   "execution_count": 5,
   "metadata": {},
   "outputs": [
    {
     "name": "stderr",
     "output_type": "stream",
     "text": [
      "100%|██████████| 5/5 [00:11<00:00,  2.21s/it]\n",
      "100%|██████████| 5/5 [00:10<00:00,  2.07s/it]\n",
      "100%|██████████| 5/5 [00:11<00:00,  2.31s/it]\n",
      "100%|██████████| 5/5 [00:11<00:00,  2.37s/it]\n",
      " 80%|████████  | 4/5 [00:15<00:00, 17.91it/s]/opt/homebrew/Caskroom/miniforge/base/envs/ssl-latent/lib/python3.10/site-packages/lifelines/utils/__init__.py:992: ConvergenceWarning: Your dataset has more variables than samples. Even with a penalizer (which you must use), convergence is not guaranteed.\n",
      "\n",
      "  warnings.warn(warning_text, ConvergenceWarning)\n",
      "/opt/homebrew/Caskroom/miniforge/base/envs/ssl-latent/lib/python3.10/site-packages/lifelines/fitters/coxph_fitter.py:1614: ConvergenceWarning: Newton-Raphson failed to converge sufficiently. Please see the following tips in the lifelines documentation: https://lifelines.readthedocs.io/en/latest/Examples.html#problems-with-convergence-in-the-cox-proportional-hazard-model\n",
      "  warnings.warn(\n",
      "100%|██████████| 5/5 [16:02<00:00, 192.57s/it]\n"
     ]
    }
   ],
   "source": [
    "from lifelines import CoxPHFitter\n",
    "from tqdm import tqdm\n",
    "\n",
    "survival_data = {\n",
    "    'pfi': [metadata['PFI.time'], metadata['PFI']],\n",
    "}\n",
    "\n",
    "ridge_models = {}\n",
    "performance = {}\n",
    "SCORING_METHOD = 'concordance_index'\n",
    "\n",
    "for cv in range(len(training_results)):\n",
    "    ridge_models[cv] = {}\n",
    "    performance[cv] = {}\n",
    "\n",
    "    for model, values in tqdm(list(training_results[cv].items())):\n",
    "        ridge_models[cv][model] = {}\n",
    "        performance[cv][model] = {}\n",
    "\n",
    "        for process in survival_data.keys():\n",
    "            y_time, y_event = survival_data[process]\n",
    "\n",
    "            X_train = values['X_train_latent']\n",
    "            X_test = values['X_test_latent']\n",
    "\n",
    "            X_train_mean, X_train_std = X_train.mean(axis=0), X_train.std(axis=0)\n",
    "            X_train = (X_train - X_train_mean)/X_train_std\n",
    "            X_test = (X_test - X_train_mean)/X_train_std\n",
    "\n",
    "            train_set = pd.concat((X_train, y_time, y_event), axis=1, join='inner')\n",
    "            train_set.columns = list(train_set.columns[:-2]) + ['time', 'event']\n",
    "            test_set = pd.concat((X_test, y_time, y_event), axis=1, join='inner')\n",
    "            test_set.columns = list(test_set.columns[:-2]) + ['time', 'event']\n",
    "\n",
    "            estimator = CoxPHFitter(penalizer=0.1)\n",
    "            estimator.fit(train_set, 'time', 'event')\n",
    "\n",
    "            ridge_models[cv][model][process] = estimator\n",
    "\n",
    "            score = estimator.score(test_set, SCORING_METHOD)\n",
    "            performance[cv][model][process] = score\n",
    "        "
   ]
  },
  {
   "cell_type": "code",
   "execution_count": 6,
   "metadata": {},
   "outputs": [],
   "source": [
    "results = {\n",
    "    name: {\n",
    "        d: [per[name][d] for per in performance.values()]\n",
    "        for d in survival_data.keys()\n",
    "    }\n",
    "    for name in performance[0].keys()\n",
    "}\n",
    "\n",
    "results = {name: results[name] for name in ['vae-cox', 'vae-mse', 'vae-div', 'pca-emb', 'no-embedding']}"
   ]
  },
  {
   "cell_type": "code",
   "execution_count": 7,
   "metadata": {},
   "outputs": [
    {
     "data": {
      "text/html": [
       "<div>\n",
       "<style scoped>\n",
       "    .dataframe tbody tr th:only-of-type {\n",
       "        vertical-align: middle;\n",
       "    }\n",
       "\n",
       "    .dataframe tbody tr th {\n",
       "        vertical-align: top;\n",
       "    }\n",
       "\n",
       "    .dataframe thead th {\n",
       "        text-align: right;\n",
       "    }\n",
       "</style>\n",
       "<table border=\"1\" class=\"dataframe\">\n",
       "  <thead>\n",
       "    <tr style=\"text-align: right;\">\n",
       "      <th></th>\n",
       "      <th>pfi</th>\n",
       "    </tr>\n",
       "  </thead>\n",
       "  <tbody>\n",
       "    <tr>\n",
       "      <th>vae-cox</th>\n",
       "      <td>(0.6922825172328875, 0.035951434459448255)</td>\n",
       "    </tr>\n",
       "    <tr>\n",
       "      <th>vae-mse</th>\n",
       "      <td>(0.6848588776841932, 0.03210406119370901)</td>\n",
       "    </tr>\n",
       "    <tr>\n",
       "      <th>vae-div</th>\n",
       "      <td>(0.6817379281679113, 0.031473613018448046)</td>\n",
       "    </tr>\n",
       "    <tr>\n",
       "      <th>pca-emb</th>\n",
       "      <td>(0.6804823768923391, 0.028633660942411973)</td>\n",
       "    </tr>\n",
       "    <tr>\n",
       "      <th>no-embedding</th>\n",
       "      <td>(0.6596952840011958, 0.023454854066439608)</td>\n",
       "    </tr>\n",
       "  </tbody>\n",
       "</table>\n",
       "</div>"
      ],
      "text/plain": [
       "                                                     pfi\n",
       "vae-cox       (0.6922825172328875, 0.035951434459448255)\n",
       "vae-mse        (0.6848588776841932, 0.03210406119370901)\n",
       "vae-div       (0.6817379281679113, 0.031473613018448046)\n",
       "pca-emb       (0.6804823768923391, 0.028633660942411973)\n",
       "no-embedding  (0.6596952840011958, 0.023454854066439608)"
      ]
     },
     "execution_count": 7,
     "metadata": {},
     "output_type": "execute_result"
    }
   ],
   "source": [
    "mean_results = pd.DataFrame(\n",
    "    [[(np.mean(results[name][d]), np.std(results[name][d])) for name in results.keys()] for d in survival_data.keys()],\n",
    "    index=survival_data.keys(), columns=results.keys()\n",
    ").T\n",
    "mean_results.head()"
   ]
  },
  {
   "cell_type": "code",
   "execution_count": 8,
   "metadata": {},
   "outputs": [
    {
     "name": "stdout",
     "output_type": "stream",
     "text": [
      "vae-cox \\(0.692 \\pm 0.016\\)\n",
      "vae-mse \\(0.685 \\pm 0.014\\)\n",
      "vae-div \\(0.682 \\pm 0.014\\)\n",
      "pca-emb \\(0.680 \\pm 0.013\\)\n",
      "no-embedding \\(0.660 \\pm 0.010\\)\n"
     ]
    }
   ],
   "source": [
    "for name in results.keys():\n",
    "    print(name, f\"\\({np.mean(results[name]['pfi']):.3f} \\pm {np.std(results[name]['pfi'])/np.sqrt(len(results[name]['pfi'])):.3f}\\)\")"
   ]
  }
 ],
 "metadata": {
  "kernelspec": {
   "display_name": "ssl-latent",
   "language": "python",
   "name": "python3"
  },
  "language_info": {
   "codemirror_mode": {
    "name": "ipython",
    "version": 3
   },
   "file_extension": ".py",
   "mimetype": "text/x-python",
   "name": "python",
   "nbconvert_exporter": "python",
   "pygments_lexer": "ipython3",
   "version": "3.10.13"
  }
 },
 "nbformat": 4,
 "nbformat_minor": 2
}
