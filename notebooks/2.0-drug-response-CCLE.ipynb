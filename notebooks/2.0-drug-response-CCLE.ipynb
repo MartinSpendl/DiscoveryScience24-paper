{
 "cells": [
  {
   "cell_type": "markdown",
   "metadata": {},
   "source": [
    "# 2.0 - Drug response of CCLE samples"
   ]
  },
  {
   "cell_type": "code",
   "execution_count": 1,
   "metadata": {},
   "outputs": [],
   "source": [
    "import os\n",
    "import numpy as np\n",
    "import pandas as pd\n",
    "import matplotlib.pyplot as plt\n",
    "import pickle\n",
    "import torch\n",
    "\n",
    "import os\n",
    "import sys\n",
    "sys.path.append(f\"../\")\n",
    "from sslcox.utils.model_evaluation import model_already_trained\n",
    "from sslcox.data.load_datasets import load_CCLE"
   ]
  },
  {
   "cell_type": "code",
   "execution_count": 2,
   "metadata": {},
   "outputs": [],
   "source": [
    "EXPRESSIONS = 'CCLE'\n",
    "\n",
    "DS_DIR = f'{EXPRESSIONS}-optuna'\n",
    "CV_DIR = lambda cv: f'CV-{cv}'\n",
    "MODEL_DIR = lambda m: f'{m}-model-results'"
   ]
  },
  {
   "cell_type": "code",
   "execution_count": 3,
   "metadata": {},
   "outputs": [],
   "source": [
    "training_results = []\n",
    "\n",
    "for cv in sorted(os.listdir(f'../data/training-results/{DS_DIR}')):\n",
    "    if cv.startswith('.'): continue\n",
    "    cv_results = {}\n",
    "\n",
    "    for model in os.listdir(f'../data/training-results/{DS_DIR}/{cv}'):\n",
    "        if model.startswith('.'): continue\n",
    "\n",
    "        name = model.split('-model-results')[0]\n",
    "        base_path = f'../data/training-results/{DS_DIR}/{cv}/{model}'\n",
    "\n",
    "        if not model_already_trained(DS_DIR, CV_DIR(cv.split('-')[1]), MODEL_DIR(name)):\n",
    "            continue\n",
    "\n",
    "        X_train_latent = pd.read_csv(f'{base_path}/X_train_latent.tsv', sep='\\t', index_col=['index'])\n",
    "        X_test_latent = pd.read_csv(f'{base_path}/X_test_latent.tsv', sep='\\t', index_col=['index'])\n",
    "        \n",
    "        cv_results[name] = {\n",
    "            'X_train_latent': X_train_latent,\n",
    "            'X_test_latent': X_test_latent,\n",
    "        }\n",
    "        \n",
    "        \n",
    "    training_results += [cv_results]"
   ]
  },
  {
   "cell_type": "code",
   "execution_count": 4,
   "metadata": {},
   "outputs": [
    {
     "name": "stderr",
     "output_type": "stream",
     "text": [
      "/opt/homebrew/Caskroom/miniforge/base/envs/ssl-latent/lib/python3.10/site-packages/openpyxl/worksheet/_read_only.py:81: UserWarning: Unknown extension is not supported and will be removed\n",
      "  for idx, row in parser.parse():\n"
     ]
    },
    {
     "data": {
      "text/html": [
       "<div>\n",
       "<style scoped>\n",
       "    .dataframe tbody tr th:only-of-type {\n",
       "        vertical-align: middle;\n",
       "    }\n",
       "\n",
       "    .dataframe tbody tr th {\n",
       "        vertical-align: top;\n",
       "    }\n",
       "\n",
       "    .dataframe thead th {\n",
       "        text-align: right;\n",
       "    }\n",
       "</style>\n",
       "<table border=\"1\" class=\"dataframe\">\n",
       "  <thead>\n",
       "    <tr style=\"text-align: right;\">\n",
       "      <th></th>\n",
       "      <th>123138</th>\n",
       "      <th>123829</th>\n",
       "      <th>150412</th>\n",
       "      <th>5-Fluorouracil</th>\n",
       "      <th>5-azacytidine</th>\n",
       "      <th>50869</th>\n",
       "      <th>615590</th>\n",
       "      <th>630600</th>\n",
       "      <th>667880</th>\n",
       "      <th>720427</th>\n",
       "      <th>...</th>\n",
       "      <th>WZ4003</th>\n",
       "      <th>Wee1 Inhibitor</th>\n",
       "      <th>Wnt-C59</th>\n",
       "      <th>XAV939</th>\n",
       "      <th>YK-4-279</th>\n",
       "      <th>ZM447439</th>\n",
       "      <th>Zoledronate</th>\n",
       "      <th>alpha-lipoic acid</th>\n",
       "      <th>ascorbate (vitamin C)</th>\n",
       "      <th>glutathione</th>\n",
       "    </tr>\n",
       "  </thead>\n",
       "  <tbody>\n",
       "    <tr>\n",
       "      <th>906826</th>\n",
       "      <td>4.754414</td>\n",
       "      <td>0.82921</td>\n",
       "      <td>4.170798</td>\n",
       "      <td>7.129417</td>\n",
       "      <td>3.916871</td>\n",
       "      <td>5.271327</td>\n",
       "      <td>4.753674</td>\n",
       "      <td>0.513277</td>\n",
       "      <td>3.226811</td>\n",
       "      <td>4.504797</td>\n",
       "      <td>...</td>\n",
       "      <td>6.441645</td>\n",
       "      <td>2.770545</td>\n",
       "      <td>6.561959</td>\n",
       "      <td>7.018388</td>\n",
       "      <td>4.114274</td>\n",
       "      <td>7.05112</td>\n",
       "      <td>4.761329</td>\n",
       "      <td>9.452854</td>\n",
       "      <td>12.218334</td>\n",
       "      <td>10.763684</td>\n",
       "    </tr>\n",
       "    <tr>\n",
       "      <th>687983</th>\n",
       "      <td>2.961674</td>\n",
       "      <td>3.969147</td>\n",
       "      <td>3.404055</td>\n",
       "      <td>7.308453</td>\n",
       "      <td>4.062533</td>\n",
       "      <td>2.141208</td>\n",
       "      <td>3.261791</td>\n",
       "      <td>2.096243</td>\n",
       "      <td>-0.672773</td>\n",
       "      <td>2.969287</td>\n",
       "      <td>...</td>\n",
       "      <td>5.642067</td>\n",
       "      <td>2.994126</td>\n",
       "      <td>4.841027</td>\n",
       "      <td>4.902027</td>\n",
       "      <td>1.549137</td>\n",
       "      <td>2.375695</td>\n",
       "      <td>4.019365</td>\n",
       "      <td>8.270719</td>\n",
       "      <td>10.811844</td>\n",
       "      <td>9.308347</td>\n",
       "    </tr>\n",
       "    <tr>\n",
       "      <th>910927</th>\n",
       "      <td>2.863059</td>\n",
       "      <td>1.203408</td>\n",
       "      <td>2.205815</td>\n",
       "      <td>3.3306</td>\n",
       "      <td>2.426967</td>\n",
       "      <td>1.66797</td>\n",
       "      <td>2.861703</td>\n",
       "      <td>0.619342</td>\n",
       "      <td>-0.638068</td>\n",
       "      <td>3.206737</td>\n",
       "      <td>...</td>\n",
       "      <td>5.421666</td>\n",
       "      <td>0.703313</td>\n",
       "      <td>3.845436</td>\n",
       "      <td>3.941939</td>\n",
       "      <td>1.125049</td>\n",
       "      <td>3.787239</td>\n",
       "      <td>4.004508</td>\n",
       "      <td>7.185137</td>\n",
       "      <td>9.596964</td>\n",
       "      <td>8.364352</td>\n",
       "    </tr>\n",
       "    <tr>\n",
       "      <th>1240138</th>\n",
       "      <td>2.086041</td>\n",
       "      <td>3.779251</td>\n",
       "      <td>4.11627</td>\n",
       "      <td>5.886689</td>\n",
       "      <td>NaN</td>\n",
       "      <td>4.345005</td>\n",
       "      <td>4.802093</td>\n",
       "      <td>3.961821</td>\n",
       "      <td>1.823284</td>\n",
       "      <td>4.008186</td>\n",
       "      <td>...</td>\n",
       "      <td>4.722434</td>\n",
       "      <td>5.192086</td>\n",
       "      <td>5.899062</td>\n",
       "      <td>3.708712</td>\n",
       "      <td>4.570317</td>\n",
       "      <td>3.906759</td>\n",
       "      <td>4.393106</td>\n",
       "      <td>NaN</td>\n",
       "      <td>NaN</td>\n",
       "      <td>NaN</td>\n",
       "    </tr>\n",
       "    <tr>\n",
       "      <th>1240139</th>\n",
       "      <td>NaN</td>\n",
       "      <td>NaN</td>\n",
       "      <td>NaN</td>\n",
       "      <td>2.230731</td>\n",
       "      <td>NaN</td>\n",
       "      <td>NaN</td>\n",
       "      <td>NaN</td>\n",
       "      <td>NaN</td>\n",
       "      <td>NaN</td>\n",
       "      <td>NaN</td>\n",
       "      <td>...</td>\n",
       "      <td>5.447572</td>\n",
       "      <td>1.253851</td>\n",
       "      <td>2.961875</td>\n",
       "      <td>4.262296</td>\n",
       "      <td>3.307553</td>\n",
       "      <td>2.334749</td>\n",
       "      <td>NaN</td>\n",
       "      <td>NaN</td>\n",
       "      <td>NaN</td>\n",
       "      <td>NaN</td>\n",
       "    </tr>\n",
       "  </tbody>\n",
       "</table>\n",
       "<p>5 rows × 286 columns</p>\n",
       "</div>"
      ],
      "text/plain": [
       "           123138    123829    150412 5-Fluorouracil 5-azacytidine     50869  \\\n",
       "906826   4.754414   0.82921  4.170798       7.129417      3.916871  5.271327   \n",
       "687983   2.961674  3.969147  3.404055       7.308453      4.062533  2.141208   \n",
       "910927   2.863059  1.203408  2.205815         3.3306      2.426967   1.66797   \n",
       "1240138  2.086041  3.779251   4.11627       5.886689           NaN  4.345005   \n",
       "1240139       NaN       NaN       NaN       2.230731           NaN       NaN   \n",
       "\n",
       "           615590    630600    667880    720427  ...    WZ4003 Wee1 Inhibitor  \\\n",
       "906826   4.753674  0.513277  3.226811  4.504797  ...  6.441645       2.770545   \n",
       "687983   3.261791  2.096243 -0.672773  2.969287  ...  5.642067       2.994126   \n",
       "910927   2.861703  0.619342 -0.638068  3.206737  ...  5.421666       0.703313   \n",
       "1240138  4.802093  3.961821  1.823284  4.008186  ...  4.722434       5.192086   \n",
       "1240139       NaN       NaN       NaN       NaN  ...  5.447572       1.253851   \n",
       "\n",
       "          Wnt-C59    XAV939  YK-4-279  ZM447439 Zoledronate alpha-lipoic acid  \\\n",
       "906826   6.561959  7.018388  4.114274   7.05112    4.761329          9.452854   \n",
       "687983   4.841027  4.902027  1.549137  2.375695    4.019365          8.270719   \n",
       "910927   3.845436  3.941939  1.125049  3.787239    4.004508          7.185137   \n",
       "1240138  5.899062  3.708712  4.570317  3.906759    4.393106               NaN   \n",
       "1240139  2.961875  4.262296  3.307553  2.334749         NaN               NaN   \n",
       "\n",
       "        ascorbate (vitamin C) glutathione  \n",
       "906826              12.218334   10.763684  \n",
       "687983              10.811844    9.308347  \n",
       "910927               9.596964    8.364352  \n",
       "1240138                   NaN         NaN  \n",
       "1240139                   NaN         NaN  \n",
       "\n",
       "[5 rows x 286 columns]"
      ]
     },
     "execution_count": 4,
     "metadata": {},
     "output_type": "execute_result"
    }
   ],
   "source": [
    "drugs = load_CCLE()[2]\n",
    "drugs.head()"
   ]
  },
  {
   "cell_type": "markdown",
   "metadata": {},
   "source": [
    "## Modeling transcription and decay enrichment"
   ]
  },
  {
   "cell_type": "code",
   "execution_count": 5,
   "metadata": {},
   "outputs": [
    {
     "name": "stderr",
     "output_type": "stream",
     "text": [
      "100%|██████████| 5/5 [02:16<00:00, 27.27s/it]\n",
      "100%|██████████| 5/5 [02:28<00:00, 29.70s/it]\n",
      "100%|██████████| 5/5 [02:25<00:00, 29.12s/it]\n",
      "100%|██████████| 5/5 [02:26<00:00, 29.33s/it]\n",
      "100%|██████████| 5/5 [02:24<00:00, 29.00s/it]\n"
     ]
    }
   ],
   "source": [
    "from sklearn.kernel_ridge import KernelRidge\n",
    "from sklearn.linear_model import Ridge\n",
    "from sklearn.neighbors import KNeighborsRegressor\n",
    "from sklearn.metrics import r2_score\n",
    "from sklearn.model_selection import LeaveOneOut, GridSearchCV, KFold\n",
    "from tqdm import tqdm\n",
    "\n",
    "RIDGE_PARAMS = {\n",
    "    'alpha': [0.1, 1, 10, 100],\n",
    "    #'kernel': ['linear', 'rbf'],\n",
    "    #'gamma': [0.01, 0.1, 1]\n",
    "    #'n_neighbors': [5, 10, 20, 50],\n",
    "    #'weights': ['uniform', 'distance'],\n",
    "}\n",
    "MIN_DRUG_RESPONSES = 500\n",
    "\n",
    "top_drugs = ((drugs.fillna(0)>0).sum(axis=0).sort_values(ascending=False) >= MIN_DRUG_RESPONSES).index.values\n",
    "\n",
    "ridge_models = {}\n",
    "predictions = {}\n",
    "performance = {}\n",
    "\n",
    "for cv in range(len(training_results)):\n",
    "    ridge_models[cv] = {}\n",
    "    predictions[cv] = {}\n",
    "    performance[cv] = {}\n",
    "\n",
    "    for model, values in tqdm(training_results[cv].items()):\n",
    "        ridge_models[cv][model] = {}\n",
    "        predictions[cv][model] = {}\n",
    "        performance[cv][model] = {}\n",
    "\n",
    "        for process in top_drugs:\n",
    "            X_train = values['X_train_latent']\n",
    "            X_test = values['X_test_latent']\n",
    "\n",
    "            y_train = drugs[process].loc[X_train.index].dropna()\n",
    "            y_test = drugs[process].loc[X_test.index].dropna()\n",
    "\n",
    "            X_train = X_train.loc[y_train.index]\n",
    "            X_test = X_test.loc[y_test.index]\n",
    "\n",
    "            X_train_mean, X_train_std = X_train.mean(axis=0), X_train.std(axis=0)\n",
    "            X_train = (X_train - X_train_mean)/X_train_std\n",
    "            X_test = (X_test - X_train_mean)/X_train_std\n",
    "\n",
    "            y_train_mean, y_train_std = y_train.mean(), y_train.std()\n",
    "            y_train = (y_train - y_train_mean)/y_train_std\n",
    "            y_test = (y_test - y_train_mean)/y_train_std\n",
    "\n",
    "            estimator = Ridge()\n",
    "            loo = KFold(n_splits=10)\n",
    "\n",
    "            grid_search = GridSearchCV(estimator, RIDGE_PARAMS, cv=loo, scoring='neg_mean_squared_error', n_jobs=-1)\n",
    "            grid_search.fit(X_train, y_train)\n",
    "\n",
    "            ridge_models[cv][model][process] = grid_search\n",
    "\n",
    "            y_pred = grid_search.predict(X_test)\n",
    "            predictions[cv][model][process] = y_pred\n",
    "\n",
    "            score = r2_score(y_test, y_pred)\n",
    "            performance[cv][model][process] = score\n",
    "        "
   ]
  },
  {
   "cell_type": "code",
   "execution_count": 7,
   "metadata": {},
   "outputs": [],
   "source": [
    "results = {\n",
    "    name: {\n",
    "        d: [per[name][d] for per in performance.values()]\n",
    "        for d in top_drugs\n",
    "    }\n",
    "    for name in performance[0].keys()\n",
    "}\n",
    "\n",
    "results = {name: results[name] for name in ['vae-cox', 'vae-mse', 'vae-div', 'pca-emb', 'no-embedding']}"
   ]
  },
  {
   "cell_type": "code",
   "execution_count": 9,
   "metadata": {},
   "outputs": [
    {
     "data": {
      "text/html": [
       "<div>\n",
       "<style scoped>\n",
       "    .dataframe tbody tr th:only-of-type {\n",
       "        vertical-align: middle;\n",
       "    }\n",
       "\n",
       "    .dataframe tbody tr th {\n",
       "        vertical-align: top;\n",
       "    }\n",
       "\n",
       "    .dataframe thead th {\n",
       "        text-align: right;\n",
       "    }\n",
       "</style>\n",
       "<table border=\"1\" class=\"dataframe\">\n",
       "  <thead>\n",
       "    <tr style=\"text-align: right;\">\n",
       "      <th></th>\n",
       "      <th>vae-cox</th>\n",
       "      <th>vae-mse</th>\n",
       "      <th>vae-div</th>\n",
       "      <th>pca-emb</th>\n",
       "      <th>no-embedding</th>\n",
       "    </tr>\n",
       "  </thead>\n",
       "  <tbody>\n",
       "    <tr>\n",
       "      <th>Olaparib</th>\n",
       "      <td>0.470167</td>\n",
       "      <td>0.452620</td>\n",
       "      <td>0.460781</td>\n",
       "      <td>0.470023</td>\n",
       "      <td>0.403015</td>\n",
       "    </tr>\n",
       "    <tr>\n",
       "      <th>Temozolomide</th>\n",
       "      <td>0.437351</td>\n",
       "      <td>0.395079</td>\n",
       "      <td>0.421959</td>\n",
       "      <td>0.419869</td>\n",
       "      <td>0.271488</td>\n",
       "    </tr>\n",
       "    <tr>\n",
       "      <th>MIRA-1</th>\n",
       "      <td>0.491830</td>\n",
       "      <td>0.448465</td>\n",
       "      <td>0.474572</td>\n",
       "      <td>0.481237</td>\n",
       "      <td>0.335949</td>\n",
       "    </tr>\n",
       "    <tr>\n",
       "      <th>GSK343</th>\n",
       "      <td>0.257916</td>\n",
       "      <td>0.223372</td>\n",
       "      <td>0.243679</td>\n",
       "      <td>0.249729</td>\n",
       "      <td>-0.012586</td>\n",
       "    </tr>\n",
       "    <tr>\n",
       "      <th>EPZ004777</th>\n",
       "      <td>0.380957</td>\n",
       "      <td>0.334245</td>\n",
       "      <td>0.357990</td>\n",
       "      <td>0.355671</td>\n",
       "      <td>0.139901</td>\n",
       "    </tr>\n",
       "  </tbody>\n",
       "</table>\n",
       "</div>"
      ],
      "text/plain": [
       "               vae-cox   vae-mse   vae-div   pca-emb  no-embedding\n",
       "Olaparib      0.470167  0.452620  0.460781  0.470023      0.403015\n",
       "Temozolomide  0.437351  0.395079  0.421959  0.419869      0.271488\n",
       "MIRA-1        0.491830  0.448465  0.474572  0.481237      0.335949\n",
       "GSK343        0.257916  0.223372  0.243679  0.249729     -0.012586\n",
       "EPZ004777     0.380957  0.334245  0.357990  0.355671      0.139901"
      ]
     },
     "execution_count": 9,
     "metadata": {},
     "output_type": "execute_result"
    }
   ],
   "source": [
    "mean_results = pd.DataFrame(\n",
    "    [[np.mean(results[name][d]) for name in results.keys()] for d in top_drugs],\n",
    "    index=top_drugs, columns=results.keys()\n",
    ")\n",
    "mean_results.head()"
   ]
  },
  {
   "cell_type": "code",
   "execution_count": 12,
   "metadata": {},
   "outputs": [
    {
     "name": "stdout",
     "output_type": "stream",
     "text": [
      "vae-cox    \\(1.26 \\pm 0.04\\) \n",
      "vae-mse    \\(3.66 \\pm 0.04\\) \n",
      "vae-div    \\(2.92 \\pm 0.04\\) \n",
      "pca-emb    \\(2.17 \\pm 0.04\\) \n",
      "no-embedding \\(5.00 \\pm 0.00\\) \n"
     ]
    }
   ],
   "source": [
    "ranks = pd.DataFrame(np.argsort(np.argsort(mean_results.values*-1))+1, columns=mean_results.columns)\n",
    "\n",
    "for col in ranks.columns:\n",
    "    mu, std = ranks[col].mean(), ranks[col].std()/np.sqrt(len(ranks))\n",
    "    print(f\"{col:10s} \\({mu:.2f} \\pm {std:.2f}\\) \")\n"
   ]
  },
  {
   "cell_type": "code",
   "execution_count": 13,
   "metadata": {},
   "outputs": [
    {
     "data": {
      "text/plain": [
       "array([1.25524476, 3.66083916, 2.91608392, 2.17132867, 4.9965035 ])"
      ]
     },
     "execution_count": 13,
     "metadata": {},
     "output_type": "execute_result"
    }
   ],
   "source": [
    "average_ranks = np.argsort(np.argsort(mean_results.values*-1)).mean(axis=0) + 1\n",
    "average_ranks"
   ]
  },
  {
   "cell_type": "code",
   "execution_count": 14,
   "metadata": {},
   "outputs": [],
   "source": [
    "import numpy as np\n",
    "from sslcox.metrics.critical_difference import compute_CD, graph_ranks"
   ]
  },
  {
   "cell_type": "code",
   "execution_count": 16,
   "metadata": {},
   "outputs": [
    {
     "data": {
      "text/plain": [
       "0.36067029175477644"
      ]
     },
     "execution_count": 16,
     "metadata": {},
     "output_type": "execute_result"
    }
   ],
   "source": [
    "cd = compute_CD(average_ranks, len(mean_results))\n",
    "cd"
   ]
  },
  {
   "cell_type": "code",
   "execution_count": 17,
   "metadata": {},
   "outputs": [
    {
     "data": {
      "text/plain": [
       "Index(['vae-cox', 'vae-mse', 'vae-div', 'pca-emb', 'no-embedding'], dtype='object')"
      ]
     },
     "execution_count": 17,
     "metadata": {},
     "output_type": "execute_result"
    }
   ],
   "source": [
    "mean_results.columns"
   ]
  },
  {
   "cell_type": "code",
   "execution_count": 18,
   "metadata": {},
   "outputs": [
    {
     "data": {
      "image/png": "[encoded data removed]",
      "text/plain": [
       "<Figure size 600x165 with 1 Axes>"
      ]
     },
     "metadata": {},
     "output_type": "display_data"
    }
   ],
   "source": [
    "plt.rcParams[\"font.family\"] = \"Times New Roman\"\n",
    "\n",
    "names = ['TDD', 'MSE', 'DIV', 'PCA', 'No Embedding']\n",
    "graph_ranks(average_ranks, names, cd, filename='../figures/CD-CCLE-drug-response.pdf', **{'dpi':300, 'bbox_inches':'tight'})"
   ]
  },
  {
   "cell_type": "code",
   "execution_count": 103,
   "metadata": {},
   "outputs": [
    {
     "data": {
      "image/png": "[encoded data removed]",
      "text/plain": [
       "<Figure size 800x200 with 1 Axes>"
      ]
     },
     "metadata": {},
     "output_type": "display_data"
    }
   ],
   "source": [
    "f, ax = plt.subplots(1, 1, figsize=(8,2))\n",
    "\n",
    "ax.plot([1,5], [0,0], lw=2, c='k')\n",
    "\n",
    "for i in range(1,6):\n",
    "    ax.plot([i,i],[0,0.08], c='k', lw=1.5)\n",
    "\n",
    "    ax.text(i, 0.12, i, c='k', fontsize=16, ha='center')\n",
    "\n",
    "for i in range(1,5):\n",
    "    ax.plot([i+0.5,i+0.5],[0,0.05], c='k', lw=1)\n",
    "\n",
    "ax.plot([1,1], [0.35, 0.48], c='k',)\n",
    "ax.plot([1+cd,1+cd], [0.35, 0.48], c='k')\n",
    "ax.plot([1,1+cd], [0.41, 0.41], c='k')\n",
    "ax.text(1+cd/2, 0.47, 'CD', fontsize=12, ha='center')\n",
    "\n",
    "ax.set_ylim(top=0.6, bottom=-1)\n",
    "\n",
    "for name, mean_rank, mean_std in zip(names, ranks.mean().values, ranks.std().values/len(ranks)):\n",
    "\n",
    "    ax.plot([mean_rank, mean_rank], [-0.3, 0], lw=1.2, c='k')\n",
    "    \n",
    "    ax.text(mean_rank, -0.35, f'{name}\\n{mean_rank:.2f}', va='top', ha='center', fontsize=14)\n",
    "\n",
    "ax.text(0.9, -0.35, f'\\n$\\mu_{{rank}}$ = ', va='top', ha='center', fontsize=14)\n",
    "\n",
    "ax.set_xticks([])\n",
    "ax.set_yticks([])\n",
    "for loc in ['top', 'bottom', 'left', 'right']:\n",
    "    ax.spines[loc].set_visible(False)\n",
    "\n",
    "\n"
   ]
  }
 ],
 "metadata": {
  "kernelspec": {
   "display_name": "ssl-latent",
   "language": "python",
   "name": "python3"
  },
  "language_info": {
   "codemirror_mode": {
    "name": "ipython",
    "version": 3
   },
   "file_extension": ".py",
   "mimetype": "text/x-python",
   "name": "python",
   "nbconvert_exporter": "python",
   "pygments_lexer": "ipython3",
   "version": "3.10.13"
  }
 },
 "nbformat": 4,
 "nbformat_minor": 2
}
